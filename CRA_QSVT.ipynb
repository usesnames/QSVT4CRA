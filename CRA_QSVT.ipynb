{
 "cells": [
  {
   "cell_type": "markdown",
   "metadata": {},
   "source": [
    "# QSVT for Quantum Credit Risk Analysis"
   ]
  },
  {
   "cell_type": "markdown",
   "metadata": {},
   "source": [
    "## Libraries and data loading"
   ]
  },
  {
   "cell_type": "code",
   "execution_count": 1,
   "metadata": {},
   "outputs": [],
   "source": [
    "# Import general purpose module(s)\n",
    "from qiskit import QuantumCircuit, ClassicalRegister\n",
    "from qiskit.primitives import StatevectorSampler, BackendSampler, BaseSampler\n",
    "from qiskit_aer import Aer\n",
    "from qiskit_algorithms import IterativeAmplitudeEstimation, EstimationProblem\n",
    "\n",
    "import numpy as np\n",
    "import pandas as pd\n",
    "import csv\n",
    "import matplotlib.pyplot as plt\n",
    "\n",
    "# Import custom module(s)\n",
    "from Code.multivariateGCI import MultivariateGCI_Linear\n",
    "from Code.utils import bisection_search\n",
    "from Code.circuitsCRA import get_expected_probability_circuit, get_expected_loss_circuitV2"
   ]
  },
  {
   "cell_type": "markdown",
   "metadata": {},
   "source": [
    "### Input reading and parameter setting"
   ]
  },
  {
   "cell_type": "code",
   "execution_count": 2,
   "metadata": {},
   "outputs": [],
   "source": [
    "# Set problem parameters\n",
    "n_z = 2 # number of qubits used to represent each gaussian (risk factor)\n",
    "z_max = 2 # gaussian's troncation values +/- \n",
    "\n",
    "\n",
    "p_zeros = [0.256, 0.072, 0.135, 0.072] # intrinsic probability of default for each asset\n",
    "rhos = [0.090, 0.090, 0.090, 0.090]\n",
    "lgd = [18406.56, 54807.94, 13719.59, 21127.25]\n",
    "\n",
    "K = len(p_zeros)\n",
    "\n",
    "F_values = [[0.158, 0.058], [0.256, 0.157], [0.158, 0.058], [0.158, 0.058]]  # values representing the correlation between assets and risk factors (first list asset, internal list correlation to risk factors)\n",
    "\n",
    "n_shots = 2048\n",
    "optimization_level = 1\n",
    "alpha_var = 0.05\n",
    "\n",
    "epsilon = 0.002\n",
    "alpha_iae = 0.025"
   ]
  },
  {
   "cell_type": "markdown",
   "metadata": {},
   "source": [
    "### Expected results"
   ]
  },
  {
   "cell_type": "code",
   "execution_count": 3,
   "metadata": {},
   "outputs": [
    {
     "data": {
      "text/html": [
       "<pre style=\"word-wrap: normal;white-space: pre;background: #fff0;line-height: 1.1;font-family: &quot;Courier New&quot;,Courier,monospace\">     ┌───────┐\n",
       "q_0: ┤0      ├\n",
       "     │       │\n",
       "q_1: ┤1      ├\n",
       "     │       │\n",
       "q_2: ┤2      ├\n",
       "     │       │\n",
       "q_3: ┤3      ├\n",
       "     │  P(X) │\n",
       "q_4: ┤4      ├\n",
       "     │       │\n",
       "q_5: ┤5      ├\n",
       "     │       │\n",
       "q_6: ┤6      ├\n",
       "     │       │\n",
       "q_7: ┤7      ├\n",
       "     └───────┘</pre>"
      ],
      "text/plain": [
       "     ┌───────┐\n",
       "q_0: ┤0      ├\n",
       "     │       │\n",
       "q_1: ┤1      ├\n",
       "     │       │\n",
       "q_2: ┤2      ├\n",
       "     │       │\n",
       "q_3: ┤3      ├\n",
       "     │  P(X) │\n",
       "q_4: ┤4      ├\n",
       "     │       │\n",
       "q_5: ┤5      ├\n",
       "     │       │\n",
       "q_6: ┤6      ├\n",
       "     │       │\n",
       "q_7: ┤7      ├\n",
       "     └───────┘"
      ]
     },
     "metadata": {},
     "output_type": "display_data"
    },
    {
     "name": "stdout",
     "output_type": "stream",
     "text": [
      "Expected result for VaR: 54807.94\n",
      "Expected Total Loss: 11075.262939453123\n"
     ]
    }
   ],
   "source": [
    "# Create the circuit to implement the custom-made Multivariate Gaussian Conditional Independence model\n",
    "# based on multiple rotations (each asset undergoes one rotation for each risk factor)\n",
    "uncertainty_model = MultivariateGCI_Linear(n_z, z_max, p_zeros, rhos, F_values)\n",
    "display(uncertainty_model.draw())\n",
    "\n",
    "job = StatevectorSampler().run([uncertainty_model.measure_all(inplace=False)], shots=n_shots)\n",
    "binary_counts = job.result()[0].data.meas.get_counts()\n",
    "binary_probabilities = {k: v / n_shots for k, v in binary_counts.items()}\n",
    "\n",
    "p_z = np.zeros(2**n_z)\n",
    "p_default = np.zeros(K)\n",
    "values = []\n",
    "probabilities = []\n",
    "\n",
    "for i, prob in binary_probabilities.items():\n",
    "    # extract value of Z and corresponding probability\n",
    "    i_normal = int(i[-n_z:], 2)\n",
    "    p_z[i_normal] += prob\n",
    "\n",
    "    # determine overall default probability for k\n",
    "    loss = 0\n",
    "    defaulted = []\n",
    "    for k in range(K):\n",
    "        if i[K - k - 1] == \"1\":\n",
    "            defaulted.append(k)\n",
    "            p_default[k] += prob\n",
    "            loss += lgd[k]\n",
    "\n",
    "    values += [loss]\n",
    "    probabilities += [prob]\n",
    "\n",
    "target_loss=sum(np.array(values)*np.array(probabilities))\n",
    "\n",
    "values = np.array(values)\n",
    "probabilities = np.array(probabilities)\n",
    "\n",
    "losses = np.sort(np.unique(values))\n",
    "pdf = np.zeros(len(losses))\n",
    "for i, v in enumerate(losses):\n",
    "    pdf[i] += sum(probabilities[values == v])\n",
    "cdf = np.cumsum(pdf)\n",
    "\n",
    "i_var = np.argmax(cdf >= 1 - alpha_var)\n",
    "target_var = losses[i_var]\n",
    "\n",
    "print(f\"Expected result for VaR: {target_var}\\nExpected Total Loss: {target_loss}\")"
   ]
  },
  {
   "cell_type": "markdown",
   "metadata": {},
   "source": [
    "## Circuit preparation to compute VAR (probability of a given loss)"
   ]
  },
  {
   "cell_type": "markdown",
   "metadata": {},
   "source": [
    "Our approach is associating to each scenario a rotation of a target qubit that is proportional to the loss.\n",
    "Then we use QSVT to select only states associated to loss greater than a given target loss.\n",
    "What we are interested in is whether the computed probability is either greater or less than $1-\\alpha$ to use bisection search.\n",
    "\n",
    "We apply ideas presented in https://arxiv.org/pdf/2404.10088.\n",
    "Soon after the run of the uncertainty model, the quantum state of the register is\n",
    "$$\n",
    "|\\psi_0\\rangle = \\sum_{j=1}^{2^n-1}\\sqrt{p_j}|w_j\\rangle\\otimes|j\\rangle\\otimes|0\\rangle\n",
    "$$\n",
    "where $|w_j\\rangle$ is a normalized statevector in the auxiliary register. Using binary notation, we associate each possible *scenario* of default to a number from $0$ to $2^n-1$.\n",
    "We use $p_j$ to denote the probability of the $j$-th scenario and $L_j$ for the corresponding loss.\n",
    "\n",
    "We scale down the possible losses to fit them in the interval $[0,1]$. We may be interested in applying some function, possibly increasing. So, let define \n",
    "$$\n",
    "\\tilde l_i = f\\left(\\frac{l_i}{\\bar L}\\right)\n",
    "$$\n",
    "$$\n",
    "\\tilde L_j = f\\left(\\frac{L_j}{\\bar L}\\right)\n",
    "$$\n",
    "for every $i \\in\\{1,\\ldots,n\\},\\ j \\in\\{0,\\ldots,2^{n}-1\\}$ where $l_i$ denotes the loss given by default of the $i$-th asset and $\\bar L$ the sum of all $l_i$'s.\n",
    "\n",
    " Finally, $f$ is a chosen additive function."
   ]
  },
  {
   "cell_type": "markdown",
   "metadata": {},
   "source": [
    "Now, consider the unitary operator $U$ such that\n",
    "$$\n",
    " U|j\\rangle|0\\rangle = \\cos(\\tilde L_j) |j\\rangle|0\\rangle + \\sin(\\tilde L_j)|j\\rangle|1\\rangle\n",
    "$$\n",
    "namely\n",
    "$$\n",
    "    U = \\sum_j |j\\rangle\\langle j|\\otimes R_y^{2\\tilde L_j}.\n",
    "$$\n",
    "Since $f$ is additive, the operator $U$ is realized by applying to the last qubit an $Y$-rotation of an angle $2\\tilde l$ controlled by the $i$-th qubit of the counterparts register.\n",
    "When we apply $U$ to $\\psi_0$, we obtain\n",
    "$$\n",
    "|\\psi\\rangle = U|\\psi_0\\rangle = \\sum_{j=0}^{2^n-1}\\sqrt{p_j}|j\\rangle \\otimes \\left( \\prod_{i=1}^n\\left(R_Y(\\tilde l_i)\\right)^{j_i}|0\\rangle|w_j\\rangle\\right) \n",
    "= \\sum_{j=0}^{2^n}\\sqrt{p_j}|j\\rangle \\left(\\sin(\\tilde L_j)|1\\rangle + \\cos(\\tilde L_j)|0\\rangle\\right).\n",
    "$$\n",
    "Our aim is computing probability that the loss is greater than some given value $T\\in [0,\\bar L]$.\n",
    "We proceed by step, starting from QSVT.\n",
    "Consider the projector\n",
    "$$\n",
    "    P_Y = I\\otimes |0\\rangle\\langle 0| = \\sum_j |j\\rangle|0\\rangle\\langle j|\\langle 0|\n",
    "$$\n",
    "and let $Y$ be the Hilbert subspace corresponding to its image.\n",
    "Observe that\n",
    "$$\n",
    "    P_YUP_Y = \\left(I\\otimes |0\\rangle\\langle 0| \\right) \\left(\\sum_j |j\\rangle\\langle j|\\otimes R_y^{2\\tilde L_j}\\right) \\left(I\\otimes |0\\rangle\\langle 0|\\right)\n",
    "$$\n",
    "$$\n",
    "= \\sum_j \\left(I\\otimes |0\\rangle\\langle 0| \\right)\\left(|j\\rangle\\langle j|\\otimes \\left(\\cos(\\tilde L_j)|0\\rangle\\langle 0| + \\sin(\\tilde L_j)|0\\rangle\\langle 1|\\right) \\right)\n",
    "$$\n",
    "$$\n",
    "= \\sum_j \\left(|j\\rangle\\langle j|\\otimes \\left(\\cos(\\tilde L_j)|0\\rangle\\langle 0|\\right) \\right) = \\sum_j \\cos(\\tilde L_j)\\left(|j\\rangle\\langle j|\\otimes \\left(|0\\rangle\\langle 0|\\right) \\right) \n",
    "$$\n",
    "By QSVT, given any real polynomial $p\\in \\mathbb R[x]$ such that $p(x)\\leq 1$ when $x\\in[-1,1]$, we may obtain an opearator $Q_U^p$ such that\n",
    "$$\n",
    "    \\left(P_Y\\otimes |0\\rangle\\langle 0|\\right)Q_U^p\\left(P_Y\\otimes |0\\rangle\\langle0|\\right) = \\sum_j p(\\cos(\\tilde L_j))\\left(|j\\rangle\\langle j|\\otimes \\left(|00\\rangle\\langle 00|\\right) \\right) \n",
    "$$\n",
    "(note that $P_Y\\otimes |0\\rangle\\langle 0| = I\\otimes |0\\rangle\\langle 0| \\otimes |0\\rangle\\langle 0| = I\\otimes |00\\rangle\\langle 00|$).\n",
    "Let $p$ be a polynomial approximation (for the sake of clarity we neglect the approximation error) of a function such that when evaluated in $\\cos(\\tilde L_j)$ equals $0$ whenever $L_j\\leq T$ and equals $1$ otherwise. \n",
    "Then\n",
    "$$\n",
    "    \\left(I\\otimes I\\otimes |00\\rangle\\langle 00|\\right)(I\\otimes Q_U^p)|\\psi_0\\rangle|0\\rangle = \\left(I\\otimes I\\otimes |00\\rangle\\langle 00|\\right)(I\\otimes Q_U^p) \\sum_{j=1}^{2^n-1}\\sqrt{p_j}|w_j\\rangle\\otimes|j\\rangle\\otimes|00\\rangle\n",
    "    =  \\sum_{j=1}^{2^n-1}\\sqrt{p_j}\\left(I\\otimes I\\otimes |00\\rangle\\langle 00|\\right)(I\\otimes Q_U^p)(I\\otimes I\\otimes |00\\rangle\\langle 00|)\\left(|w_j\\rangle\\otimes|j\\rangle\\otimes|00\\rangle\\right)\n",
    "    = \\sum_{j=1}^{2^n-1}\\sqrt{p_j}|w_j\\rangle\\otimes\\left(\\left(I\\otimes |00\\rangle\\langle 00|\\right)Q_U^p\\left(I\\otimes |00\\rangle\\langle 00|\\right)|j\\rangle|00\\rangle\\right)\n",
    "     = \\sum_{j=1}^{2^n-1}\\sqrt{p_j}|w_j\\rangle\\otimes\\left(p(\\cos(\\tilde L_j))|j\\rangle|00\\rangle\\right)\n",
    "     = \\sum_{j=1}^{2^n-1}\\sqrt{p_j}p(\\cos(\\tilde L_j))|w_j\\rangle|j\\rangle|00\\rangle\n",
    "     = \\sum_{j\\mid L_j>T}\\sqrt{p_j}|w_j\\rangle|j\\rangle|00\\rangle\n",
    "$$\n",
    "that is, the probability of obtaining $00$ in the last two qubits equals the probability that the loss is greater than $T$. "
   ]
  },
  {
   "cell_type": "markdown",
   "metadata": {},
   "source": [
    "We use the following\n",
    "\n",
    "**Theorem** (4, https://arxiv.org/pdf/2105.02859):\n",
    "Let $A =\\sum_{k}\\sigma_k|w_k\\rangle\\langle v_k|$ be a\n",
    "block encoding of a matrix, in a unitary matrix $U$, that is\n",
    "$$\n",
    "A = \\tilde \\Pi U \\Pi\n",
    "$$\n",
    "for some projectors $\\Pi = \\sum_{k} |v_k\\rangle\\langle v_k|$, $\\tilde \\Pi = \\sum_{k} |w_k\\rangle\\langle w_k|$.\n",
    "Moreover, let $p$ be an even polynomial of (even) degree $d$, under certein hypothesis.\n",
    "For every $\\phi$, define\n",
    "\\begin{align}\n",
    "P_{\\phi} & = e^{i\\phi(2\\Pi - I)},\\\\\n",
    "\\tilde P_{\\phi} & = e^{i\\phi(2\\tilde \\Pi - I)}.\n",
    "\\end{align}\n",
    "Then there exists a sequence of phases $\\Phi = (\\phi)_{i=1}^d$ such that, defined $U_\\Phi$ as \n",
    "$$U_\\Phi = \\Pi_{i=1}^{d/2}\\left(P_{\\phi_{2i-1}} U^\\dagger \\tilde P_{\\phi_{2i}} U\\right)$$\n",
    "we have\n",
    "$\\tilde \\Pi U_\\Phi \\Pi = \\sum_{k}p(\\sigma_k)|w_k\\rangle\\langle v_k|$"
   ]
  },
  {
   "cell_type": "markdown",
   "metadata": {},
   "source": []
  },
  {
   "cell_type": "code",
   "execution_count": 4,
   "metadata": {},
   "outputs": [
    {
     "name": "stderr",
     "output_type": "stream",
     "text": [
      "/Users/ema/miniconda3/envs/qsp_cra/lib/python3.12/site-packages/numpy/polynomial/chebyshev.py:454: RuntimeWarning: overflow encountered in multiply\n",
      "  c1 = polyadd(tmp, polymulx(c1)*2)\n",
      "/Users/ema/miniconda3/envs/qsp_cra/lib/python3.12/site-packages/numpy/polynomial/polyutils.py:563: RuntimeWarning: overflow encountered in add\n",
      "  c2[:c1.size] += c1\n"
     ]
    }
   ],
   "source": [
    "poly_1000_ch=[]\n",
    "poly_1000_ch_non_zero=[]\n",
    "with open('coefficients_full.csv', newline='') as csvfile:\n",
    "    spamreader = csv.reader(csvfile, delimiter=' ', quotechar='|')\n",
    "    i=0\n",
    "    for row in spamreader:\n",
    "        if i%2 == 0:\n",
    "            poly_1000_ch_non_zero.append(float(row[0]))\n",
    "        i=i+1\n",
    "        poly_1000_ch.append(float(row[0]))\n",
    "\n",
    "    \n",
    "poly_1000 = np.polynomial.chebyshev.cheb2poly(poly_1000_ch)\n",
    "\n",
    "\n",
    "phases_qspPack=[]\n",
    "with open('phases.csv', newline='') as csvfile:\n",
    "    spamreader = csv.reader(csvfile, delimiter=' ', quotechar='|')\n",
    "    for row in spamreader:\n",
    "        phases_qspPack.append(float(row[0]))"
   ]
  },
  {
   "cell_type": "code",
   "execution_count": 5,
   "metadata": {},
   "outputs": [
    {
     "data": {
      "image/png": "[encoded data removed]",
      "text/plain": [
       "<Figure size 640x480 with 1 Axes>"
      ]
     },
     "metadata": {},
     "output_type": "display_data"
    }
   ],
   "source": [
    "def plot_poly(poly, lin=1000, range_min=0, range_max=1., parity=0):\n",
    "    xs = np.linspace(range_min, range_max, lin)\n",
    "\n",
    "    ys = np.zeros(len(xs))\n",
    "    y = np.arccos(xs)\n",
    "\n",
    "    if parity == 0:\n",
    "        for k in range(1, len(poly) + 1, 2):\n",
    "            ys += poly[k - 1] * np.cos((k - 1) * y)\n",
    "    else:\n",
    "        for k in range(2, len(poly) + 1, 2):\n",
    "            ys += poly[k - 1] * np.cos((k - 1) * y)\n",
    "\n",
    "    # print(ys)\n",
    "    figure = plt.figure()\n",
    "    plt.plot(xs, ys)\n",
    "    # add plot of a threshold function\n",
    "    threshold_function = lambda x: 1 if np.abs(x) < 0.5 else 0\n",
    "    ys_threshold = [threshold_function(x) for x in xs]\n",
    "    plt.plot(xs, ys_threshold, linestyle=\"--\", linewidth=1)\n",
    "    plt.legend([\"d=1000\", \"Function\"])\n",
    "    plt.savefig(\"poly_approx.pdf\", format=\"pdf\")\n",
    "\n",
    "plot_poly(poly_1000_ch, lin=1001, range_min=-1, range_max=1, parity=0)"
   ]
  },
  {
   "cell_type": "code",
   "execution_count": 6,
   "metadata": {},
   "outputs": [],
   "source": [
    "def cheby_coef_to_func(x, coef, parity, partialcoef=True):\n",
    "    \"\"\"\n",
    "    Python equivalent of the MATLAB function ChebyCoef2Func.\n",
    "    \n",
    "    Parameters:\n",
    "    x (array-like): Input array of x values.\n",
    "    coef (array-like): Coefficients for the Chebyshev series.\n",
    "    parity (int): Parity (0 or 1).\n",
    "    partialcoef (bool): Determines the subset of coefficients to use.\n",
    "    \n",
    "    Returns:\n",
    "    numpy.ndarray: Resultant array after applying the Chebyshev transformation.\n",
    "    \"\"\"\n",
    "    ret = np.zeros(len(x))\n",
    "    y = np.arccos(x)\n",
    "    \n",
    "    if partialcoef:\n",
    "        if parity == 0:\n",
    "            for k in range(1, len(coef) + 1):\n",
    "                ret += coef[k - 1] * np.cos(2 * (k - 1) * y)\n",
    "        else:\n",
    "            for k in range(1, len(coef) + 1):\n",
    "                ret += coef[k - 1] * np.cos((2 * k - 1) * y)\n",
    "    else:\n",
    "        if parity == 0:\n",
    "            for k in range(1, len(coef) + 1, 2):\n",
    "                ret += coef[k - 1] * np.cos((k - 1) * y)\n",
    "        else:\n",
    "            for k in range(2, len(coef) + 1, 2):\n",
    "                ret += coef[k - 1] * np.cos((k - 1) * y)\n",
    "    \n",
    "    return ret\n",
    "\n",
    "def compute_average(poly, lin=20, range_min=0, range_max=.5, chebichev=False):\n",
    "    xs = np.linspace(range_min, range_max, lin)\n",
    "    ys = np.array(cheby_coef_to_func(xs, poly, 0))\n",
    "    return sum(ys)/len(ys)\n",
    "\n",
    "poly_1000_ch_avg = compute_average(poly_1000_ch_non_zero, 1000, 0, 0.5, chebichev=True)\n",
    "\n",
    "refactor = 1/poly_1000_ch_avg **2"
   ]
  },
  {
   "cell_type": "code",
   "execution_count": 7,
   "metadata": {},
   "outputs": [],
   "source": [
    "def build_state_preparation_var(uncertainty_model, lgd, target_loss, phis:list=None, poly:list=None, do_print=False, epsilon=np.arcsin(0.5)) :\n",
    "    state_preparation, objective, switch = get_expected_probability_circuit(len(lgd), uncertainty_model, lgd, target_loss, phases=phis, poly=poly, enable_switch=True, epsilon=epsilon)\n",
    "    \n",
    "    if do_print:\n",
    "        display(state_preparation.decompose(reps=0).draw())\n",
    "        decomposed_circ = state_preparation.decompose(reps=99)\n",
    "        print('_____________________________________________________________________')\n",
    "        print(f'Gates: {decomposed_circ.count_ops()}')\n",
    "        print(f'Depth: {decomposed_circ.depth()}')\n",
    "        print(f'Width: {decomposed_circ.width()}')\n",
    "    \n",
    "    return state_preparation, switch"
   ]
  },
  {
   "cell_type": "markdown",
   "metadata": {},
   "source": [
    "## Number of shots for IQAE\n",
    "\n",
    "By \\[<https://arxiv.org/pdf/1912.05559>, Theorem 1\\] the maximum number of shots requested for IQAE is\n",
    "\n",
    "$$\n",
    "N_{max}(\\epsilon, \\alpha) = \\frac{32}{(1-2\\sin(\\pi/14))^2}\\log\\left( \\frac{2}{\\alpha}\\log_2\\left(\\frac{\\pi}{4\\epsilon}\\right) \\right).\n",
    "$$\n",
    "\n",
    "We write a function to compute it."
   ]
  },
  {
   "cell_type": "code",
   "execution_count": 8,
   "metadata": {},
   "outputs": [],
   "source": [
    "def nMax(epsilon, alpha_iae):\n",
    "    # print(\"espilon:\",epsilon,\"alpha_iae:\", alpha_iae)\n",
    "    ret = 32/(1-2*np.sin(np.pi/14))**2 * np.log((2/alpha_iae)*np.log2(np.pi/(4*epsilon)))\n",
    "    # print(ret)\n",
    "    return  ret"
   ]
  },
  {
   "cell_type": "code",
   "execution_count": 9,
   "metadata": {},
   "outputs": [
    {
     "name": "stderr",
     "output_type": "stream",
     "text": [
      "/var/folders/74/wt_5qpj93q3376cvntqjvnm80000gn/T/ipykernel_1087/3807994451.py:1: DeprecationWarning: The class ``qiskit.primitives.backend_sampler.BackendSampler`` is deprecated as of qiskit 1.2. It will be removed no earlier than 3 months after the release date. All implementations of the `BaseSamplerV1` interface have been deprecated in favor of their V2 counterparts. The V2 alternative for the `BackendSampler` class is `BackendSamplerV2`.\n",
      "  sampler_noiseless = BackendSampler(backend=Aer.get_backend('qasm_simulator'))\n"
     ]
    }
   ],
   "source": [
    "sampler_noiseless = BackendSampler(backend=Aer.get_backend('qasm_simulator'))"
   ]
  },
  {
   "cell_type": "code",
   "execution_count": 10,
   "metadata": {},
   "outputs": [],
   "source": [
    "from qiskit.circuit.library import CCXGate, XGate\n",
    "from qiskit.circuit import QuantumRegister"
   ]
  },
  {
   "cell_type": "code",
   "execution_count": 11,
   "metadata": {},
   "outputs": [],
   "source": [
    "def check_state_prep_cdf(state_preparation, switch, rescaling_factor=1):\n",
    "    #  print(\"Check state preparation\")\n",
    "    target_measure = ClassicalRegister(2, 'target_measure')\n",
    "    circuit = QuantumCircuit(*(state_preparation.qregs), target_measure)\n",
    "    circuit.append(state_preparation, list(range(circuit.num_qubits)))\n",
    "    circuit.measure(circuit.num_qubits-2, 0)\n",
    "    circuit.measure(circuit.num_qubits-1, 1)\n",
    "    # display(circuit.decompose(reps=2).draw(\"mpl\"))\n",
    "    results = StatevectorSampler().run([circuit], shots=100000).result()\n",
    "    counts = results[0].data.target_measure.get_counts()\n",
    "    # print(counts)\n",
    "    # print(results.get_statevector())\n",
    "\n",
    "    if switch:\n",
    "        return counts.get('00',0)/sum(counts.values())*rescaling_factor\n",
    "    else:\n",
    "        return 1-counts.get('00',0)/sum(counts.values())*rescaling_factor\n",
    "\n",
    "def estimateCdf(sampler: BaseSampler, limit_loss: float, phis, comparison=True, rf=1, debug=False) :\n",
    "    '''\n",
    "    Args:\n",
    "        sampler : BaseSampler, the V1 sampler to use for the execution (iae does not support V2 currently).\n",
    "        limit_loss : float, the minimum loss whose probability we are interested in \n",
    "        mcx: bool, whether to use polylogarithmic implementation of multi-control-not\n",
    "    '''\n",
    "    state_preparation, switch = build_state_preparation_var(uncertainty_model, lgd, limit_loss, phis)\n",
    "\n",
    "    if comparison or debug:\n",
    "        state_prep_result = check_state_prep_cdf(state_preparation, switch, rf)\n",
    "        print(f'expected prob (cdf) for {limit_loss} with qsp WO iae: {state_prep_result:.5f}')\n",
    "\n",
    "    if debug:\n",
    "        return state_prep_result\n",
    "    L_MAX = sum(lgd)\n",
    "    \n",
    "    shots = min([2048, int(nMax(epsilon, alpha_iae))])\n",
    "    maximum_rounds_number=np.ceil(np.log2(np.pi/(8*epsilon)))\n",
    "    # print(f'number of shots: {shots}')\n",
    "    sampler.set_options(default_shots = shots)\n",
    "\n",
    "    if switch:\n",
    "        post_processing_function = lambda x: x*rf\n",
    "    else:\n",
    "        post_processing_function = lambda x: 1-x*rf\n",
    "    \n",
    "    iae_target = QuantumRegister(1, 'iae_target')\n",
    "    state_preparation_for_IAE = QuantumCircuit(*(state_preparation.qregs), iae_target)\n",
    "    \n",
    "    state_preparation_for_IAE.append(state_preparation, range(state_preparation.num_qubits))\n",
    "    state_preparation_for_IAE.append(XGate(), [state_preparation.num_qubits-2])\n",
    "    state_preparation_for_IAE.append(XGate(), [state_preparation.num_qubits-1])\n",
    "    \n",
    "    state_preparation_for_IAE.append(CCXGate(), [state_preparation.num_qubits-2, state_preparation.num_qubits-1, state_preparation.num_qubits])\n",
    "\n",
    "    # display(state_preparation_for_IAE.draw())\n",
    "    problem = EstimationProblem(state_preparation=state_preparation_for_IAE.decompose(reps=99),\n",
    "                            objective_qubits=[state_preparation_for_IAE.num_qubits-1],\n",
    "                            post_processing=post_processing_function)\n",
    "    \n",
    "    amplitude_estimation_instance = IterativeAmplitudeEstimation(epsilon, alpha=alpha_iae, sampler=sampler)\n",
    "    result = amplitude_estimation_instance.estimate(problem)\n",
    "\n",
    "    return eval(str(result))"
   ]
  },
  {
   "cell_type": "code",
   "execution_count": 12,
   "metadata": {},
   "outputs": [
    {
     "name": "stdout",
     "output_type": "stream",
     "text": [
      "expected prob (cdf) for 0 with qsp WO iae: 0.58262\n",
      "expected prob (cdf) for 13719.59 with qsp WO iae: 0.66163\n",
      "expected prob (cdf) for 18406.56 with qsp WO iae: 0.84858\n",
      "expected prob (cdf) for 21127.25 with qsp WO iae: 0.89058\n",
      "expected prob (cdf) for 32126.15 with qsp WO iae: 0.91616\n",
      "expected prob (cdf) for 34846.84 with qsp WO iae: 0.92196\n",
      "expected prob (cdf) for 39533.81 with qsp WO iae: 0.93319\n",
      "expected prob (cdf) for 53253.4 with qsp WO iae: 0.93661\n",
      "expected prob (cdf) for 54807.94 with qsp WO iae: 0.97727\n",
      "expected prob (cdf) for 68527.53 with qsp WO iae: 0.98221\n",
      "expected prob (cdf) for 73214.5 with qsp WO iae: 0.99474\n",
      "expected prob (cdf) for 75935.19 with qsp WO iae: 1.00055\n",
      "expected prob (cdf) for 86934.09 with qsp WO iae: 1.00404\n",
      "expected prob (cdf) for 89654.78 with qsp WO iae: 1.00101\n",
      "expected prob (cdf) for 94341.75 with qsp WO iae: 1.00453\n",
      "expected prob (cdf) for 108061.34 with qsp WO iae: 1.00345\n"
     ]
    },
    {
     "data": {
      "text/plain": [
       "{0: np.float64(0.5826),\n",
       " 13719.59: np.float64(0.6616),\n",
       " 18406.56: np.float64(0.8486),\n",
       " 21127.25: np.float64(0.8906),\n",
       " 32126.15: np.float64(0.9162),\n",
       " 34846.84: np.float64(0.922),\n",
       " 39533.81: np.float64(0.9332),\n",
       " 53253.4: np.float64(0.9366),\n",
       " 54807.94: np.float64(0.9773),\n",
       " 68527.53: np.float64(0.9822),\n",
       " 73214.5: np.float64(0.9947),\n",
       " 75935.19: np.float64(1.0006),\n",
       " 86934.09: np.float64(1.004),\n",
       " 89654.78: np.float64(1.001),\n",
       " 94341.75: np.float64(1.0045),\n",
       " 108061.34: np.float64(1.0035)}"
      ]
     },
     "execution_count": 12,
     "metadata": {},
     "output_type": "execute_result"
    }
   ],
   "source": [
    "import itertools\n",
    "# compute all possible combinations summing float in given list and return list with combinations\n",
    "possible_losses= [0]+[sum(comb) for r in range(1, len(lgd) + 1) for comb in itertools.combinations(lgd, r)]\n",
    "\n",
    "possible_outcomes = [estimateCdf(sampler_noiseless, level, phis=phases_qspPack, rf=refactor, debug=True) for level in sorted(possible_losses)]\n",
    "\n",
    "pd.set_option('display.max_colwidth', None)\n",
    "\n",
    "# round values and put into dict\n",
    "outcome_dict = {round(k,4): round(v, 4) for k, v in zip(sorted(possible_losses),possible_outcomes)}"
   ]
  },
  {
   "cell_type": "code",
   "execution_count": null,
   "metadata": {},
   "outputs": [
    {
     "name": "stdout",
     "output_type": "stream",
     "text": [
      "espilon: 0.002 alpha_iae: 0.025\n",
      "-----------------------------------------------------------------------\n",
      "start bisection search for target value 0.950\n",
      "-----------------------------------------------------------------------\n",
      "low_level      low_val    level         value   high_level    high_value\n",
      "-----------------------------------------------------------------------\n"
     ]
    }
   ],
   "source": [
    "print(\"espilon:\", epsilon, \"alpha_iae:\", alpha_iae)\n",
    "bisection_search(estimateCdf, 1-alpha_var, 0, sum(lgd), sampler=sampler_noiseless, \n",
    "                 phis=phases_qspPack, rescaling_factor=refactor)"
   ]
  },
  {
   "cell_type": "markdown",
   "metadata": {},
   "source": [
    "## Appendix A - Circuit preparation to compute expected loss"
   ]
  },
  {
   "cell_type": "markdown",
   "metadata": {},
   "source": [
    "Suppose we have $n$ assets, enumerated from $1$ to $n$. Let $l_i$ denote the loss given by default of the $i$-th asset.\n",
    "Using binary notation, we associate each possible *scenario* of default to a number from $0$ to $2^n-1$.\n",
    "We use $p_j$ to denote the probability of the $j$-th scenario and $L_j$ for the corresponding loss.\n",
    "We use $j_i$ to denote the $i$-th bit in the binary representation of $j$.\n",
    "Thus $L_j = \\sum_{i}^n j_il_i$.\n",
    "\n",
    "We are interested in computing the expected loss, that is\n",
    "$$\n",
    "\\mathbb E[L] = \\sum_{j=0}^{2^n-1}p_j L_j.\n",
    "$$"
   ]
  },
  {
   "cell_type": "markdown",
   "metadata": {},
   "source": [
    "First of all, we scale down the values $l_i$ so that they are *small* in some sense that will be clearer later. So, let $c<1$ be a positive constant and let ${\\bar L}$ be the sum of all $l_i$'s.\n",
    "For every $i\\in\\{1,\\ldots n\\}$. We define\n",
    "$$\n",
    "\\tilde l_i = c\\left(\\frac{ l_i }{ {\\bar L} }\\right).\n",
    "$$\n",
    "Since all $l_i$'s are positive, for every subset of the $\\tilde l_i$'s, the sum of its components lies between $0$ and $c$."
   ]
  },
  {
   "cell_type": "markdown",
   "metadata": {},
   "source": [
    "Now, assume the quantum register's state is\n",
    "$$\n",
    "|\\psi_0\\rangle = \\sum_{j=1}^{2^n-1}\\sqrt{p_j}|j\\rangle\\otimes|0\\rangle.\n",
    "$$"
   ]
  },
  {
   "cell_type": "markdown",
   "metadata": {},
   "source": [
    "We apply a $(\\pi/2- c)$-rotation around $Y$ to the target qubit and, for every asset, i.e. for every $i\\in\\{1,\\ldots,n\\}$, we apply to the target qubit a $2\\tilde l_i$-rotation around $y$ controlled by the $i$-th qubit, obtaining\n",
    "$$\n",
    "|\\psi\\rangle = \\sum_{j=0}^{2^n-1}\\sqrt{p_j}|j\\rangle \\otimes \\left( \\prod_{i=1}^n\\left(R_Y(2\\tilde l_i)\\right)^{j_i}R_Y(\\pi/2-c)|0\\rangle\\right).\n",
    "$$"
   ]
  },
  {
   "cell_type": "markdown",
   "metadata": {},
   "source": [
    "Recall that\n",
    "$$ R_Y(\\alpha)R_Y(\\beta) = R_Y(\\alpha + \\beta)$$\n",
    "and\n",
    "$$\n",
    "    R_Y(2\\alpha)|0\\rangle = \\cos(\\alpha)|0\\rangle + \\sin(\\alpha)|1\\rangle,\n",
    "$$\n",
    "thus\n",
    "$$\n",
    "\\prod_{i=1}^n\\left(R_Y(2\\tilde l_i)\\right)^{j_i}R_Y(\\pi/2-c)|0\\rangle = R_Y\\left(\\frac{\\pi}{2} - c + 2\\sum_{i=1}^n j_i\\tilde l_i\\right)|0\\rangle = \\cos\\left(\\frac{\\pi}{4} - \\frac{c}{2} + \\sum_{i=1}^n j_i\\tilde l_i\\right)|0\\rangle + \\sin\\left(\\frac{\\pi}{4} - \\frac{c}{2} + \\sum_{i=1}^n j_i\\tilde l_i\\right)|1\\rangle\n",
    "$$"
   ]
  },
  {
   "cell_type": "markdown",
   "metadata": {},
   "source": [
    "and therefore\n",
    "$$\n",
    "|\\psi\\rangle = \\sum_{j=0}^{2^n-1}\\sqrt{p_j}|j\\rangle \\otimes \\left( \\cos\\left(\\frac{\\pi}{4} - \\frac{c}{2} + \\sum_{i=1}^n j_i\\tilde l_i\\right)|0\\rangle + \\sin\\left(\\frac{\\pi}{4} - \\frac{c}{2} + \\sum_{i=1}^n j_i\\tilde l_i\\right)|1\\rangle \\right).\n",
    "$$"
   ]
  },
  {
   "cell_type": "markdown",
   "metadata": {},
   "source": [
    "So, the probability of obtaining $1$ measuring the last qubit is given by\n",
    "$$\n",
    "    P_1 = \\sum_{j=0}^{2^n-1}p_j \\sin^2\\left(\\frac{\\pi}{4} - \\frac{c}{2} + \\sum_{i=1}^n j_i\\tilde l_i\\right)\n",
    "$$"
   ]
  },
  {
   "cell_type": "markdown",
   "metadata": {},
   "source": [
    "where \n",
    "$$\\sum_{i=1}^n j_i\\tilde l_i = \\sum_{i=1}^n j_i c \\frac{l_i}{{\\bar L}} = \\frac{c}{{\\bar L}}L_j$$\n",
    "lies between $0$ and $c$ and thus $\\frac{\\pi}{4} - \\frac{c}{2} + \\sum_{i=1}^n j_i\\tilde l_i$ lies between $\\pi/4-c/2$ and $\\pi/4 + c/2$.\n",
    "Now, Taylor's expansion of $\\sin^2(x)$ centered in $\\pi/4$ is:\n",
    "\n",
    "$$\n",
    "    \\sin^2(x) = \\frac{1}{2} + (x - \\pi/4) - \\frac{4}{3!}(x-\\pi/4)^3 + O(x-\\pi/4)^5 = \\frac{1}{2} + (x - \\pi/4) - \\frac{2}{3}(x-\\pi/4)^3 + O(x-\\pi/4)^5 = \\frac{1}{2} + (x - \\pi/4) + O(x-\\pi/4)^3\n",
    "$$\n"
   ]
  },
  {
   "cell_type": "markdown",
   "metadata": {},
   "source": [
    "### Aside: Taylor's expansion\n",
    "$$\n",
    "\\cos(2x) = 1 - 2\\sin^2(x) \\rightarrow \\sin^2(x) = \\frac{1 - \\cos(2x)}{2}\n",
    "$$\n",
    "whence\n",
    "\\begin{align*}\n",
    "    D^0[\\sin^2(x)] & = \\frac{1}{2}\\left(1 - \\cos(2x)\\right)          & \\rightarrow & D^0[\\sin^2(x)]|_{\\pi/4} = \\frac{1}{2} \\\\\n",
    "    D^1[\\sin^2(x)] & = \\frac{1}{2}(2\\sin(2x))=\\sin(2x) & \\rightarrow & D^1[\\sin^2(x)]|_{\\pi/4} = 1\\\\\n",
    "    D^2[\\sin^2(x)] & = 2\\cos(2x)                       & \\rightarrow & D^2[\\sin^2(x)]|_{\\pi/4} = 0 \\\\\n",
    "    D^3[\\sin^2(x)] & = -4\\sin(2x)                      & \\rightarrow & D^3[\\sin^2(x)]|_{\\pi/4} = -4 \\\\\n",
    "    D^4[\\sin^2(x)] & = -8\\cos(2x)                      & \\rightarrow & D^4[\\sin^2(x)]|_{\\pi/4} = 0 \\\\\n",
    "    D^5[\\sin^2(x)] & = 16\\sin(2x)                      & \\rightarrow & D^2[\\sin^2(x)]|_{\\pi/4} = 16\n",
    "\\end{align*}\n",
    "\n",
    "### Reprise"
   ]
  },
  {
   "cell_type": "markdown",
   "metadata": {},
   "source": [
    "so that\n",
    "\\begin{multline*}\n",
    "\\sin^2\\left(\\frac{\\pi}{4} - \\frac{c}{2} + \\sum_{i=1}^n j_i\\tilde l_i\\right) = \\\\\n",
    "= \\frac{1}{2} + \\sum_{i=1}^n j_i\\tilde l_i - \\frac{c}{2} - \\frac{2}{3}\\left( - \\frac{c}{2} + \\sum_{i=1}^n j_i\\tilde l_i \\right)^3 + O\\left(- \\frac{c}{2} + \\sum_{i=1}^n j_i\\tilde l_i\\right)^5\n",
    "=\\frac{1}{2} + \\frac{c}{{\\bar L}}L_j - \\frac{c}{2} -\\frac{2}{3}\\left(- \\frac{c}{2} +\\frac{c}{{\\bar L}}L_j\\right)^3 + O\\left(- \\frac{c}{2} +\\frac{c}{{\\bar L}}L_i\\right)^5 \\\\\n",
    "= \\frac{1}{2} + \\frac{c}{{\\bar L}}L_j - \\frac{c}{2} -\\frac{2}{3}\\left(- \\frac{c}{2} +\\frac{c}{{\\bar L}}L_j\\right)^3 + O\\left(c^5\\right)\n",
    "\\end{multline*}"
   ]
  },
  {
   "cell_type": "markdown",
   "metadata": {},
   "source": [
    "Thus we can approximate $P_1$ as\n",
    "\\begin{multline*}\n",
    "P_1 \\approx \\sum_{j=0}^{2^n-1} p_j\\left( \\frac{1}{2} + \\frac{c}{{\\bar L}}L_j - \\frac{c}{2} -\\frac{2}{3}\\left(- \\frac{c}{2} +\\frac{c}{{\\bar L}}L_j\\right)^3 + O\\left(c^5\\right) \\right) \\\\\n",
    "% =  \\sum_{j=0}^{2^n-1} p_j\\left(\\frac{1}{2} + \\frac{c}{{\\bar L}}L_j - \\frac{c}{2}+  O(c^3)\\right)\n",
    "= \\frac{1}{2} + \\frac{c}{{\\bar L}}\\sum_{j=0}^{2^n-1}p_jL_j - \\frac{c}{2} -\\frac{2}{3}\\sum_{j=0}^{2^n-1}p_j\\left(- \\frac{c}{2} +\\frac{c}{{\\bar L}}L_j\\right)^3 + O\\left(c^5\\right) \\\\\n",
    "= \\frac{1}{2} + \\frac{c}{{\\bar L}}\\mathbb{E}[L] - \\frac{c}{2} -\\frac{2}{3}\\sum_{j=0}^{2^n-1}p_j\\left(- \\frac{c}{2} +\\frac{c}{{\\bar L}}L_j\\right)^3 + O\\left(c^5\\right)\n",
    "\\end{multline*}"
   ]
  },
  {
   "cell_type": "markdown",
   "metadata": {},
   "source": [
    "whence\n",
    "$$\n",
    "\\mathbb{E}[L] \\approx \\frac{{\\bar L}}{c}\\left(P_1 - \\frac{1}{2} + \\frac{c}{2}\\right).\n",
    "$$"
   ]
  },
  {
   "cell_type": "markdown",
   "metadata": {},
   "source": [
    "In order to have an $\\epsilon$-tolerance for $\\mathbb E[L]$, we need an $\\epsilon$-tolerance for $\\frac{{\\bar L}}{c}P_1$, that is a ${c\\bar \\epsilon}$-tolerance for $P_1$, where\n",
    "$${\\bar \\epsilon}=\\frac{\\epsilon}{{\\bar L}}.$$\n",
    "This is achieved by executing at most $\\frac{50}{{\\bar \\epsilon}c}\\log\\left(\\frac{2}{\\alpha}\\log_2\\left(\\frac{\\pi}{4{\\bar \\epsilon}c}\\right)\\right)$ queries of the grover operator (see https://arxiv.org/pdf/1912.05559, Theorem 1) and imposing (ignoring higher order summands):\n",
    "$$\n",
    "\\left\\vert\\frac{2}{3}\\sum_{j=0}^{2^n-1}p_j\\left(- \\frac{c}{2} +\\frac{c}{{\\bar L}}L_j\\right)^3\\right\\vert \\leq \\frac{\\epsilon c}{{\\bar L}}=c{\\bar \\epsilon}.\n",
    "$$"
   ]
  },
  {
   "cell_type": "markdown",
   "metadata": {},
   "source": [
    "So we need $c$ to be as large as possible (to reduce the number of operations needed to obtain a certain precision), but respecting this last inequality. Since $L_j\\leq {\\bar L}$ for every $j$, we can simplify such inequality and obtain an optimal $c$ by solving\n",
    "$$\n",
    "\\frac{2}{3}\\left(\\frac{c}{2}\\right)^3 \\leq c{\\bar \\epsilon}\n",
    "$$\n",
    "that is\n",
    "$$\n",
    "c\\leq \\sqrt{12{\\bar \\epsilon}}.\n",
    "$$"
   ]
  },
  {
   "cell_type": "markdown",
   "metadata": {},
   "source": [
    "So, a good choice of $c$ is \n",
    "$$c^* = 2\\sqrt{3{\\bar \\epsilon}}.$$"
   ]
  },
  {
   "cell_type": "markdown",
   "metadata": {},
   "source": [
    "Indeed, since in order to have an affordable confidence interval, we need to ask for half the required error, thus\n",
    "$$\n",
    "c^* = \\sqrt{6{\\bar \\epsilon}}\n",
    "$$"
   ]
  },
  {
   "cell_type": "code",
   "execution_count": null,
   "metadata": {},
   "outputs": [
    {
     "data": {
      "text/plain": [
       "np.float64(0.006323501491233328)"
      ]
     },
     "metadata": {},
     "output_type": "display_data"
    }
   ],
   "source": [
    "#c_star=np.sqrt(2 * epsilon)\n",
    "def best_c(epsilon, lgd) :\n",
    "    L_MAX=sum(lgd)\n",
    "    c_star=np.sqrt(6 * epsilon /L_MAX)\n",
    "    return c_star\n",
    "best_c(epsilon, lgd)"
   ]
  },
  {
   "cell_type": "markdown",
   "metadata": {},
   "source": [
    "Thus the upper bound of for the number of queries is \n",
    "$$\n",
    "\\frac{50}{{\\bar \\epsilon}2\\sqrt{3{\\bar \\epsilon}}}\n",
    "\\log\\left(\n",
    "    \\frac{2}{\\alpha}\\log_2\\left(\n",
    "        \\frac{\\pi}{4{\\bar \\epsilon}2\\sqrt{3{\\bar \\epsilon}}}\n",
    "    \\right)\n",
    "\\right) = \n",
    "$$"
   ]
  },
  {
   "cell_type": "markdown",
   "metadata": {},
   "source": [
    "$$\n",
    "\\frac{25}{\\sqrt{3}{\\bar \\epsilon}^{3/2}}\n",
    "\\log\\left(\n",
    "    \\frac{2}{\\alpha}\\log_2\\left(\n",
    "        \\frac{\\pi}{8\\sqrt{3}{\\bar \\epsilon}^{2/3}}\n",
    "    \\right)\n",
    "\\right)\n",
    "$$\n",
    "that implies an $O\\left(\\epsilon^{-3/2}\\log\\log_2\\left(\\epsilon^{-3/2}\\right)\\right)$ complexity that is still better than the classical solution (that grows as $O\\left(\\epsilon^{-2}\\right)$."
   ]
  },
  {
   "cell_type": "markdown",
   "metadata": {},
   "source": [
    "So we found a solution that makes the state preparation operator to grow linearly w.r.t. the number of counterparts, still keeping the *overall* number of Grover queries under control.\n",
    "This linerarization of the circuit makes sense because having a shorter state preparation we may accept that the involved cirtuit are generally shorter as well.\n",
    "However, since we need a better precision (${c\\bar \\epsilon}=2\\sqrt{3}{\\bar \\epsilon}^{3/2}$), more iterations and, above all, larger exponents at the final iterations are needed, possibly making this lineraization useless."
   ]
  },
  {
   "cell_type": "markdown",
   "metadata": {},
   "source": [
    "Let $k$ be the exponent of the grover operator $Q$ at the last iteration. This is at most (see https://arxiv.org/pdf/1912.05559 B8)\n",
    "$$\n",
    "    k\\leq \\frac{K-2}{4}\\leq \\frac{N_{max}L_{max}}{4\\epsilon} - \\frac{1}{2}\n",
    "$$\n",
    "where $L_{max}$ is bounded by a constant and (Theorem 1)\n",
    "$$\n",
    "N_{max}=N_{max}(\\epsilon, \\alpha) = \\frac{32}{(1-2\\sin(\\pi/14))^2}\\log\\left( \\frac{2}{\\alpha}\\log_2\\left(\\frac{\\pi}{4\\epsilon}\\right) \\right).\n",
    "$$"
   ]
  },
  {
   "cell_type": "markdown",
   "metadata": {},
   "source": [
    "The maximal depth of the circuits we may need to execute in the process is at most\n",
    "$$\n",
    " d_{max} = q N_{max}L_{max}\\epsilon^{-1}/4 - q/2\n",
    "$$\n",
    "where $q=q(n)$ is the depth of grover operator.\n",
    "\n",
    "When we adopt the exact exponential circuit in state preparation, $d_{max}$ is exponential with respect to the number of counterparts and grows as $\\log\\log_2(\\epsilon^{-1})\\epsilon^{-1}$ with respect to precision.\n",
    "Conversely, when we adopt the approximated linear state preparation, $d_{max}$ is linear/polylogaritmic (see other sections) w.r.t. the number of counterparts and grows as $\\log\\log_2(\\epsilon^{-1})\\epsilon^{-3/2}$ w.r.t. to relative precision.\n",
    "Thus this implementation is especially useful when several counterparts are involved."
   ]
  },
  {
   "cell_type": "code",
   "execution_count": null,
   "metadata": {},
   "outputs": [],
   "source": [
    "state_preparation_dict = {}\n",
    "def build_state_preparation_eloss(uncertainty_model, lgd, c=0, state_preparation_dict = state_preparation_dict, do_print=False) :\n",
    "\n",
    "    state_preparation, objective = get_expected_loss_circuitV2(len(lgd), uncertainty_model, lgd, c)\n",
    "    state_preparation_dict[c]=(state_preparation, objective)\n",
    "\n",
    "    if do_print:\n",
    "        decomposed_el_circ = state_preparation.decompose(reps=10)\n",
    "        print('_____________________________________________________________________')\n",
    "        print(f'Gates: {decomposed_el_circ.count_ops()}')\n",
    "        print(f'Depth: {decomposed_el_circ.depth()}')\n",
    "        print(f'Width: {decomposed_el_circ.width()}')\n",
    "    # display(decomposed_el_circ.draw())\n",
    "    return state_preparation, objective"
   ]
  }
 ],
 "metadata": {
  "kernelspec": {
   "display_name": "qsp_cra",
   "language": "python",
   "name": "python3"
  },
  "language_info": {
   "codemirror_mode": {
    "name": "ipython",
    "version": 3
   },
   "file_extension": ".py",
   "mimetype": "text/x-python",
   "name": "python",
   "nbconvert_exporter": "python",
   "pygments_lexer": "ipython3",
   "version": "3.12.8"
  }
 },
 "nbformat": 4,
 "nbformat_minor": 4
}
